{
 "cells": [
  {
   "cell_type": "markdown",
   "metadata": {},
   "source": [
    "# Lezione di lavoratorio 11\n",
    "Durante questa lezione è stato proposto un primo approccio alle reti neurali e al machine learning, utilizzando la libreria keras."
   ]
  },
  {
   "cell_type": "markdown",
   "metadata": {},
   "source": [
    "# es 11.1"
   ]
  },
  {
   "cell_type": "code",
   "execution_count": 1,
   "metadata": {},
   "outputs": [
    {
     "data": {
      "text/plain": [
       "<Figure size 640x480 with 1 Axes>"
      ]
     },
     "metadata": {},
     "output_type": "display_data"
    }
   ],
   "source": [
    "# target parameters of f(x) = m*x + b\n",
    "m = 2 # slope\n",
    "b = 1 # intersect\n",
    "import numpy as np\n",
    "\n",
    "# generate training inputs\n",
    "np.random.seed(0)\n",
    "x_train = np.random.uniform(-1, 1, 500)\n",
    "x_valid = np.random.uniform(-1, 1, 10)\n",
    "x_valid.sort()\n",
    "y_target = m * x_valid + b # ideal (target) linear function\n",
    "\n",
    "sigma = 0.1 # noise standard deviation, for the moment it is absent\n",
    "y_train = np.random.normal(m * x_train + b, sigma) # actual measures from which we want to guess regression parameters\n",
    "y_valid = np.random.normal(m * x_valid + b, sigma)\n",
    "# plot training and target dataset\n",
    "import matplotlib.pyplot as plt\n",
    "plt.plot(x_valid, y_target)\n",
    "plt.scatter(x_valid, y_valid, color='r')\n",
    "plt.grid(True); plt.show()"
   ]
  },
  {
   "cell_type": "code",
   "execution_count": 2,
   "metadata": {},
   "outputs": [
    {
     "name": "stdout",
     "output_type": "stream",
     "text": [
      "WARNING:tensorflow:From /home/damibob/anaconda3/lib/python3.7/site-packages/tensorflow_core/python/ops/resource_variable_ops.py:1630: calling BaseResourceVariable.__init__ (from tensorflow.python.ops.resource_variable_ops) with constraint is deprecated and will be removed in a future version.\n",
      "Instructions for updating:\n",
      "If using Keras pass *_constraint arguments to layers.\n",
      "Model: \"sequential\"\n",
      "_________________________________________________________________\n",
      "Layer (type)                 Output Shape              Param #   \n",
      "=================================================================\n",
      "dense (Dense)                (None, 1)                 2         \n",
      "=================================================================\n",
      "Total params: 2\n",
      "Trainable params: 2\n",
      "Non-trainable params: 0\n",
      "_________________________________________________________________\n",
      "Train on 500 samples, validate on 10 samples\n",
      "Epoch 1/60\n",
      "500/500 [==============================] - 0s 430us/sample - loss: 1.3341 - mean_squared_error: 1.3341 - val_loss: 0.9386 - val_mean_squared_error: 0.9386\n",
      "Epoch 2/60\n",
      "500/500 [==============================] - 0s 34us/sample - loss: 0.8708 - mean_squared_error: 0.8708 - val_loss: 0.6251 - val_mean_squared_error: 0.6251\n",
      "Epoch 3/60\n",
      "500/500 [==============================] - 0s 47us/sample - loss: 0.5938 - mean_squared_error: 0.5938 - val_loss: 0.4406 - val_mean_squared_error: 0.4406\n",
      "Epoch 4/60\n",
      "500/500 [==============================] - 0s 43us/sample - loss: 0.4243 - mean_squared_error: 0.4243 - val_loss: 0.3252 - val_mean_squared_error: 0.3252\n",
      "Epoch 5/60\n",
      "500/500 [==============================] - 0s 50us/sample - loss: 0.3146 - mean_squared_error: 0.3146 - val_loss: 0.2495 - val_mean_squared_error: 0.2495\n",
      "Epoch 6/60\n",
      "500/500 [==============================] - 0s 43us/sample - loss: 0.2403 - mean_squared_error: 0.2403 - val_loss: 0.1961 - val_mean_squared_error: 0.1961\n",
      "Epoch 7/60\n",
      "500/500 [==============================] - 0s 48us/sample - loss: 0.1868 - mean_squared_error: 0.1868 - val_loss: 0.1578 - val_mean_squared_error: 0.1578\n",
      "Epoch 8/60\n",
      "500/500 [==============================] - 0s 38us/sample - loss: 0.1477 - mean_squared_error: 0.1477 - val_loss: 0.1295 - val_mean_squared_error: 0.1295\n",
      "Epoch 9/60\n",
      "500/500 [==============================] - 0s 42us/sample - loss: 0.1186 - mean_squared_error: 0.1186 - val_loss: 0.1077 - val_mean_squared_error: 0.1077\n",
      "Epoch 10/60\n",
      "500/500 [==============================] - 0s 50us/sample - loss: 0.0962 - mean_squared_error: 0.0962 - val_loss: 0.0904 - val_mean_squared_error: 0.0904\n",
      "Epoch 11/60\n",
      "500/500 [==============================] - 0s 37us/sample - loss: 0.0784 - mean_squared_error: 0.0784 - val_loss: 0.0769 - val_mean_squared_error: 0.0769\n",
      "Epoch 12/60\n",
      "500/500 [==============================] - 0s 51us/sample - loss: 0.0647 - mean_squared_error: 0.0647 - val_loss: 0.0661 - val_mean_squared_error: 0.0661\n",
      "Epoch 13/60\n",
      "500/500 [==============================] - 0s 39us/sample - loss: 0.0537 - mean_squared_error: 0.0537 - val_loss: 0.0575 - val_mean_squared_error: 0.0575\n",
      "Epoch 14/60\n",
      "500/500 [==============================] - 0s 51us/sample - loss: 0.0451 - mean_squared_error: 0.0451 - val_loss: 0.0504 - val_mean_squared_error: 0.0504\n",
      "Epoch 15/60\n",
      "500/500 [==============================] - 0s 51us/sample - loss: 0.0380 - mean_squared_error: 0.0380 - val_loss: 0.0447 - val_mean_squared_error: 0.0447\n",
      "Epoch 16/60\n",
      "500/500 [==============================] - 0s 66us/sample - loss: 0.0325 - mean_squared_error: 0.0325 - val_loss: 0.0401 - val_mean_squared_error: 0.0401\n",
      "Epoch 17/60\n",
      "500/500 [==============================] - 0s 55us/sample - loss: 0.0280 - mean_squared_error: 0.0280 - val_loss: 0.0363 - val_mean_squared_error: 0.0363\n",
      "Epoch 18/60\n",
      "500/500 [==============================] - 0s 45us/sample - loss: 0.0243 - mean_squared_error: 0.0243 - val_loss: 0.0332 - val_mean_squared_error: 0.0332\n",
      "Epoch 19/60\n",
      "500/500 [==============================] - 0s 51us/sample - loss: 0.0215 - mean_squared_error: 0.0215 - val_loss: 0.0307 - val_mean_squared_error: 0.0307\n",
      "Epoch 20/60\n",
      "500/500 [==============================] - 0s 49us/sample - loss: 0.0191 - mean_squared_error: 0.0191 - val_loss: 0.0287 - val_mean_squared_error: 0.0287\n",
      "Epoch 21/60\n",
      "500/500 [==============================] - 0s 38us/sample - loss: 0.0172 - mean_squared_error: 0.0172 - val_loss: 0.0270 - val_mean_squared_error: 0.0270\n",
      "Epoch 22/60\n",
      "500/500 [==============================] - 0s 51us/sample - loss: 0.0157 - mean_squared_error: 0.0157 - val_loss: 0.0256 - val_mean_squared_error: 0.0256\n",
      "Epoch 23/60\n",
      "500/500 [==============================] - 0s 69us/sample - loss: 0.0145 - mean_squared_error: 0.0145 - val_loss: 0.0245 - val_mean_squared_error: 0.0245\n",
      "Epoch 24/60\n",
      "500/500 [==============================] - 0s 57us/sample - loss: 0.0135 - mean_squared_error: 0.0135 - val_loss: 0.0236 - val_mean_squared_error: 0.0236\n",
      "Epoch 25/60\n",
      "500/500 [==============================] - 0s 53us/sample - loss: 0.0128 - mean_squared_error: 0.0128 - val_loss: 0.0228 - val_mean_squared_error: 0.0228\n",
      "Epoch 26/60\n",
      "500/500 [==============================] - 0s 61us/sample - loss: 0.0121 - mean_squared_error: 0.0121 - val_loss: 0.0221 - val_mean_squared_error: 0.0221\n",
      "Epoch 27/60\n",
      "500/500 [==============================] - 0s 42us/sample - loss: 0.0116 - mean_squared_error: 0.0116 - val_loss: 0.0216 - val_mean_squared_error: 0.0216\n",
      "Epoch 28/60\n",
      "500/500 [==============================] - 0s 51us/sample - loss: 0.0112 - mean_squared_error: 0.0112 - val_loss: 0.0212 - val_mean_squared_error: 0.0212\n",
      "Epoch 29/60\n",
      "500/500 [==============================] - 0s 66us/sample - loss: 0.0109 - mean_squared_error: 0.0109 - val_loss: 0.0208 - val_mean_squared_error: 0.0208\n",
      "Epoch 30/60\n",
      "500/500 [==============================] - 0s 55us/sample - loss: 0.0106 - mean_squared_error: 0.0106 - val_loss: 0.0205 - val_mean_squared_error: 0.0205\n",
      "Epoch 31/60\n",
      "500/500 [==============================] - 0s 44us/sample - loss: 0.0104 - mean_squared_error: 0.0104 - val_loss: 0.0203 - val_mean_squared_error: 0.0203\n",
      "Epoch 32/60\n",
      "500/500 [==============================] - 0s 48us/sample - loss: 0.0102 - mean_squared_error: 0.0102 - val_loss: 0.0201 - val_mean_squared_error: 0.0201\n",
      "Epoch 33/60\n",
      "500/500 [==============================] - 0s 42us/sample - loss: 0.0101 - mean_squared_error: 0.0101 - val_loss: 0.0199 - val_mean_squared_error: 0.0199\n",
      "Epoch 34/60\n",
      "500/500 [==============================] - 0s 47us/sample - loss: 0.0100 - mean_squared_error: 0.0100 - val_loss: 0.0197 - val_mean_squared_error: 0.0197\n",
      "Epoch 35/60\n",
      "500/500 [==============================] - 0s 43us/sample - loss: 0.0099 - mean_squared_error: 0.0099 - val_loss: 0.0196 - val_mean_squared_error: 0.0196\n",
      "Epoch 36/60\n",
      "500/500 [==============================] - 0s 43us/sample - loss: 0.0098 - mean_squared_error: 0.0098 - val_loss: 0.0195 - val_mean_squared_error: 0.0195\n",
      "Epoch 37/60\n",
      "500/500 [==============================] - 0s 44us/sample - loss: 0.0098 - mean_squared_error: 0.0098 - val_loss: 0.0194 - val_mean_squared_error: 0.0194\n",
      "Epoch 38/60\n",
      "500/500 [==============================] - 0s 38us/sample - loss: 0.0097 - mean_squared_error: 0.0097 - val_loss: 0.0193 - val_mean_squared_error: 0.0193\n",
      "Epoch 39/60\n",
      "500/500 [==============================] - 0s 40us/sample - loss: 0.0097 - mean_squared_error: 0.0097 - val_loss: 0.0193 - val_mean_squared_error: 0.0193\n",
      "Epoch 40/60\n",
      "500/500 [==============================] - 0s 51us/sample - loss: 0.0097 - mean_squared_error: 0.0097 - val_loss: 0.0192 - val_mean_squared_error: 0.0192\n",
      "Epoch 41/60\n",
      "500/500 [==============================] - 0s 41us/sample - loss: 0.0096 - mean_squared_error: 0.0096 - val_loss: 0.0191 - val_mean_squared_error: 0.0191\n",
      "Epoch 42/60\n",
      "500/500 [==============================] - 0s 36us/sample - loss: 0.0096 - mean_squared_error: 0.0096 - val_loss: 0.0191 - val_mean_squared_error: 0.0191\n",
      "Epoch 43/60\n",
      "500/500 [==============================] - 0s 47us/sample - loss: 0.0096 - mean_squared_error: 0.0096 - val_loss: 0.0191 - val_mean_squared_error: 0.0191\n",
      "Epoch 44/60\n",
      "500/500 [==============================] - 0s 46us/sample - loss: 0.0096 - mean_squared_error: 0.0096 - val_loss: 0.0190 - val_mean_squared_error: 0.0190\n",
      "Epoch 45/60\n"
     ]
    },
    {
     "name": "stdout",
     "output_type": "stream",
     "text": [
      "500/500 [==============================] - 0s 47us/sample - loss: 0.0096 - mean_squared_error: 0.0096 - val_loss: 0.0190 - val_mean_squared_error: 0.0190\n",
      "Epoch 46/60\n",
      "500/500 [==============================] - 0s 39us/sample - loss: 0.0096 - mean_squared_error: 0.0096 - val_loss: 0.0190 - val_mean_squared_error: 0.0190\n",
      "Epoch 47/60\n",
      "500/500 [==============================] - 0s 37us/sample - loss: 0.0096 - mean_squared_error: 0.0096 - val_loss: 0.0190 - val_mean_squared_error: 0.0190\n",
      "Epoch 48/60\n",
      "500/500 [==============================] - 0s 35us/sample - loss: 0.0096 - mean_squared_error: 0.0096 - val_loss: 0.0190 - val_mean_squared_error: 0.0190\n",
      "Epoch 49/60\n",
      "500/500 [==============================] - 0s 33us/sample - loss: 0.0096 - mean_squared_error: 0.0096 - val_loss: 0.0189 - val_mean_squared_error: 0.0189\n",
      "Epoch 50/60\n",
      "500/500 [==============================] - 0s 39us/sample - loss: 0.0096 - mean_squared_error: 0.0096 - val_loss: 0.0189 - val_mean_squared_error: 0.0189\n",
      "Epoch 51/60\n",
      "500/500 [==============================] - 0s 34us/sample - loss: 0.0096 - mean_squared_error: 0.0096 - val_loss: 0.0189 - val_mean_squared_error: 0.0189\n",
      "Epoch 52/60\n",
      "500/500 [==============================] - 0s 33us/sample - loss: 0.0096 - mean_squared_error: 0.0096 - val_loss: 0.0189 - val_mean_squared_error: 0.0189\n",
      "Epoch 53/60\n",
      "500/500 [==============================] - 0s 32us/sample - loss: 0.0096 - mean_squared_error: 0.0096 - val_loss: 0.0189 - val_mean_squared_error: 0.0189\n",
      "Epoch 54/60\n",
      "500/500 [==============================] - 0s 37us/sample - loss: 0.0095 - mean_squared_error: 0.0095 - val_loss: 0.0189 - val_mean_squared_error: 0.0189\n",
      "Epoch 55/60\n",
      "500/500 [==============================] - 0s 33us/sample - loss: 0.0095 - mean_squared_error: 0.0095 - val_loss: 0.0189 - val_mean_squared_error: 0.0189\n",
      "Epoch 56/60\n",
      "500/500 [==============================] - 0s 39us/sample - loss: 0.0095 - mean_squared_error: 0.0095 - val_loss: 0.0189 - val_mean_squared_error: 0.0189\n",
      "Epoch 57/60\n",
      "500/500 [==============================] - 0s 39us/sample - loss: 0.0095 - mean_squared_error: 0.0095 - val_loss: 0.0189 - val_mean_squared_error: 0.0189\n",
      "Epoch 58/60\n",
      "500/500 [==============================] - 0s 37us/sample - loss: 0.0095 - mean_squared_error: 0.0095 - val_loss: 0.0189 - val_mean_squared_error: 0.0189\n",
      "Epoch 59/60\n",
      "500/500 [==============================] - 0s 33us/sample - loss: 0.0095 - mean_squared_error: 0.0095 - val_loss: 0.0189 - val_mean_squared_error: 0.0189\n",
      "Epoch 60/60\n",
      "500/500 [==============================] - 0s 35us/sample - loss: 0.0095 - mean_squared_error: 0.0095 - val_loss: 0.0188 - val_mean_squared_error: 0.0188\n"
     ]
    }
   ],
   "source": [
    "# compose the NN model\n",
    "import tensorflow as tf\n",
    "from tensorflow import keras\n",
    "\n",
    "from tensorflow.keras.models import Sequential\n",
    "from tensorflow.keras.layers import Dense, Activation\n",
    "from tensorflow.keras import backend as K\n",
    "from tensorflow.keras.utils import get_custom_objects\n",
    "\n",
    "model = tf.keras.Sequential()\n",
    "model.add(Dense(1, input_shape=(1,)))\n",
    "\n",
    "# compile the model choosing optimizer, loss and metrics objects\n",
    "model.compile(optimizer='sgd', loss='mse', metrics=['mse'])\n",
    "# get a summary of our composed model\n",
    "model.summary()\n",
    "# fit the model using training dataset\n",
    "# over 10 epochs of 32 batch size each\n",
    "# report training progress against validation data\n",
    "history = model.fit(x=x_train, y=y_train, \n",
    "          batch_size=32, epochs=60,\n",
    "          shuffle=True, # a good idea is to shuffle input before at each epoch\n",
    "          validation_data=(x_valid, y_valid))"
   ]
  },
  {
   "cell_type": "code",
   "execution_count": 3,
   "metadata": {},
   "outputs": [
    {
     "data": {
      "text/plain": [
       "[array([[1.986112]], dtype=float32), array([0.9902752], dtype=float32)]"
      ]
     },
     "execution_count": 3,
     "metadata": {},
     "output_type": "execute_result"
    }
   ],
   "source": [
    "# return weights\n",
    "model.get_weights()\n",
    "# evaluate model\n",
    "score = model.evaluate(x_valid, y_valid, batch_size=32, verbose=1)\n",
    "\n",
    "# print performance\n",
    "print()\n",
    "print('Test loss:', score[0])\n",
    "print('Test accuracy:', score[1])"
   ]
  },
  {
   "cell_type": "code",
   "execution_count": 4,
   "metadata": {},
   "outputs": [
    {
     "name": "stdout",
     "output_type": "stream",
     "text": [
      "10/10 [==============================] - 0s 183us/sample - loss: 0.0188 - mean_squared_error: 0.0188\n",
      "\n",
      "Test loss: 0.018845392391085625\n",
      "Test accuracy: 0.018845392\n"
     ]
    }
   ],
   "source": [
    "# evaluate model with the exact curve\n",
    "score = model.evaluate(x_valid, y_target, batch_size=32, verbose=1)\n",
    "\n",
    "# print performance\n",
    "print()\n",
    "print('Test loss:', score[0])\n",
    "print('Test accuracy:', score[1])"
   ]
  },
  {
   "cell_type": "code",
   "execution_count": 5,
   "metadata": {},
   "outputs": [
    {
     "name": "stdout",
     "output_type": "stream",
     "text": [
      "10/10 [==============================] - 0s 252us/sample - loss: 1.4093e-04 - mean_squared_error: 1.4093e-04\n",
      "\n",
      "Test loss: 0.0001409276737831533\n",
      "Test accuracy: 0.00014092767\n"
     ]
    }
   ],
   "source": [
    "# look into training history\n",
    "# Plot training & validation loss values\n",
    "plt.plot(history.history['loss'])\n",
    "plt.plot(history.history['val_loss'])\n",
    "plt.title('Model loss')\n",
    "plt.ylabel('Loss')\n",
    "plt.xlabel('Epoch')\n",
    "plt.legend(['Train', 'Test'], loc='best')\n",
    "plt.show()"
   ]
  },
  {
   "cell_type": "code",
   "execution_count": 7,
   "metadata": {},
   "outputs": [
    {
     "data": {
      "image/png": "[encoded data removed]",
      "text/plain": [
       "<Figure size 432x288 with 1 Axes>"
      ]
     },
     "metadata": {
      "needs_background": "light"
     },
     "output_type": "display_data"
    }
   ],
   "source": [
    "x_predicted = np.random.uniform(-1, 1, 100)\n",
    "y_predicted = model.predict(x_predicted)\n",
    "plt.scatter(x_predicted, y_predicted,color='r')\n",
    "plt.plot(x_valid, y_target)\n",
    "plt.grid(True)\n",
    "plt.show()"
   ]
  },
  {
   "cell_type": "code",
   "execution_count": null,
   "metadata": {},
   "outputs": [],
   "source": []
  }
 ],
 "metadata": {
  "kernelspec": {
   "display_name": "Python 3",
   "language": "python",
   "name": "python3"
  },
  "language_info": {
   "codemirror_mode": {
    "name": "ipython",
    "version": 3
   },
   "file_extension": ".py",
   "mimetype": "text/x-python",
   "name": "python",
   "nbconvert_exporter": "python",
   "pygments_lexer": "ipython3",
   "version": "3.7.4"
  }
 },
 "nbformat": 4,
 "nbformat_minor": 2
}
