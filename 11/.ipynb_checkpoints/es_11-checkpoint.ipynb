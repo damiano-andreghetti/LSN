{
 "cells": [
  {
   "cell_type": "markdown",
   "metadata": {},
   "source": [
    "# Lezione di lavoratorio 11\n",
    "Durante questa lezione è stato proposto un primo approccio alle reti neurali e al machine learning, utilizzando la libreria python Keras.<br>\n",
    "Una rete neurale è un sistema di percettroni posizionati su vari livelli.<br>\n",
    "Un percettrone riceve in ingresso vari segnali da quelli nel livello (layer) precedente, ad ognuno dà un peso e restituisce il segnale modificato (a seconda della funzione di attivazione) a quelli nel livello successivo. <br>\n",
    "L'immagine che segue mostra lo schema di funzionamento di un singolo percettrone (a) e la struttura di una generica rete neurale (b). <br>\n",
    "![title](nn_img.png)\n",
    "<br>\n",
    "La rete viene \"allenata\" su una serie di dati di ingresso di cui si conosce il risultato desiderato. La rete utilizza questa serie di dati più volte (per più \"epoche\") per andare a modificare i parametri dei vari nodi della rete, ottimizzandoli per ottenere i risultati desiderati. <br>\n",
    "Una volta che il training della rete è terminato è possibile validarla ovvero eseguire un test sempre con dati il cui output desiderato è noto per verificarne il funzionamento, ed utilizzarla per predire i risultati dati altri dati di ingresso.<br>"
   ]
  },
  {
   "cell_type": "markdown",
   "metadata": {},
   "source": [
    "### Esercizio 11.1\n",
    "Vengono variati alcuni parametri della rete neurale fornita (numero di epoche per il training, il noise sui dati ecc...) per risolvere un problema di fit lineare, con funzione f(x)=2x+1, fornendo dati con un certo rumore."
   ]
  },
  {
   "cell_type": "code",
   "execution_count": 1,
   "metadata": {},
   "outputs": [
    {
     "data": {
      "text/plain": [
       "<Figure size 640x480 with 1 Axes>"
      ]
     },
     "metadata": {},
     "output_type": "display_data"
    }
   ],
   "source": [
    "# target parameters of f(x) = m*x + b\n",
    "m = 2 # slope\n",
    "b = 1 # intersect\n",
    "import numpy as np\n",
    "\n",
    "# generate training inputs\n",
    "np.random.seed(0)\n",
    "x_train = np.random.uniform(-1, 1, 500)\n",
    "x_valid = np.random.uniform(-1, 1, 10)\n",
    "x_valid.sort()\n",
    "y_target = m * x_valid + b # ideal (target) linear function\n",
    "\n",
    "sigma = 0.1 # noise standard deviation, for the moment it is absent\n",
    "y_train = np.random.normal(m * x_train + b, sigma) # actual measures from which we want to guess regression parameters\n",
    "y_valid = np.random.normal(m * x_valid + b, sigma)\n",
    "# plot training and target dataset\n",
    "import matplotlib.pyplot as plt\n",
    "plt.plot(x_valid, y_target)\n",
    "plt.scatter(x_valid, y_valid, color='r')\n",
    "plt.grid(True); plt.show()"
   ]
  },
  {
   "cell_type": "code",
   "execution_count": 2,
   "metadata": {},
   "outputs": [
    {
     "name": "stdout",
     "output_type": "stream",
     "text": [
      "WARNING:tensorflow:From /home/damibob/anaconda3/lib/python3.7/site-packages/tensorflow_core/python/ops/resource_variable_ops.py:1630: calling BaseResourceVariable.__init__ (from tensorflow.python.ops.resource_variable_ops) with constraint is deprecated and will be removed in a future version.\n",
      "Instructions for updating:\n",
      "If using Keras pass *_constraint arguments to layers.\n",
      "Model: \"sequential\"\n",
      "_________________________________________________________________\n",
      "Layer (type)                 Output Shape              Param #   \n",
      "=================================================================\n",
      "dense (Dense)                (None, 1)                 2         \n",
      "=================================================================\n",
      "Total params: 2\n",
      "Trainable params: 2\n",
      "Non-trainable params: 0\n",
      "_________________________________________________________________\n",
      "Train on 500 samples, validate on 10 samples\n",
      "Epoch 1/60\n",
      "500/500 [==============================] - 0s 375us/sample - loss: 3.2777 - mean_squared_error: 3.2777 - val_loss: 2.3724 - val_mean_squared_error: 2.3724\n",
      "Epoch 2/60\n",
      "500/500 [==============================] - 0s 35us/sample - loss: 2.4390 - mean_squared_error: 2.4390 - val_loss: 1.7891 - val_mean_squared_error: 1.7891\n",
      "Epoch 3/60\n",
      "500/500 [==============================] - 0s 44us/sample - loss: 1.8552 - mean_squared_error: 1.8552 - val_loss: 1.3860 - val_mean_squared_error: 1.3860\n",
      "Epoch 4/60\n",
      "500/500 [==============================] - 0s 56us/sample - loss: 1.4402 - mean_squared_error: 1.4402 - val_loss: 1.0919 - val_mean_squared_error: 1.0919\n",
      "Epoch 5/60\n",
      "500/500 [==============================] - 0s 54us/sample - loss: 1.1327 - mean_squared_error: 1.1327 - val_loss: 0.8701 - val_mean_squared_error: 0.8701\n",
      "Epoch 6/60\n",
      "500/500 [==============================] - 0s 55us/sample - loss: 0.8986 - mean_squared_error: 0.8986 - val_loss: 0.6977 - val_mean_squared_error: 0.6977\n",
      "Epoch 7/60\n",
      "500/500 [==============================] - 0s 45us/sample - loss: 0.7157 - mean_squared_error: 0.7157 - val_loss: 0.5631 - val_mean_squared_error: 0.5631\n",
      "Epoch 8/60\n",
      "500/500 [==============================] - 0s 37us/sample - loss: 0.5728 - mean_squared_error: 0.5728 - val_loss: 0.4572 - val_mean_squared_error: 0.4572\n",
      "Epoch 9/60\n",
      "500/500 [==============================] - 0s 47us/sample - loss: 0.4605 - mean_squared_error: 0.4605 - val_loss: 0.3729 - val_mean_squared_error: 0.3729\n",
      "Epoch 10/60\n",
      "500/500 [==============================] - 0s 48us/sample - loss: 0.3715 - mean_squared_error: 0.3715 - val_loss: 0.3042 - val_mean_squared_error: 0.3042\n",
      "Epoch 11/60\n",
      "500/500 [==============================] - 0s 35us/sample - loss: 0.2990 - mean_squared_error: 0.2990 - val_loss: 0.2498 - val_mean_squared_error: 0.2498\n",
      "Epoch 12/60\n",
      "500/500 [==============================] - 0s 45us/sample - loss: 0.2422 - mean_squared_error: 0.2422 - val_loss: 0.2060 - val_mean_squared_error: 0.2060\n",
      "Epoch 13/60\n",
      "500/500 [==============================] - 0s 46us/sample - loss: 0.1965 - mean_squared_error: 0.1965 - val_loss: 0.1708 - val_mean_squared_error: 0.1708\n",
      "Epoch 14/60\n",
      "500/500 [==============================] - 0s 51us/sample - loss: 0.1601 - mean_squared_error: 0.1601 - val_loss: 0.1420 - val_mean_squared_error: 0.1420\n",
      "Epoch 15/60\n",
      "500/500 [==============================] - 0s 46us/sample - loss: 0.1304 - mean_squared_error: 0.1304 - val_loss: 0.1190 - val_mean_squared_error: 0.1190\n",
      "Epoch 16/60\n",
      "500/500 [==============================] - 0s 50us/sample - loss: 0.1069 - mean_squared_error: 0.1069 - val_loss: 0.1004 - val_mean_squared_error: 0.1004\n",
      "Epoch 17/60\n",
      "500/500 [==============================] - 0s 54us/sample - loss: 0.0879 - mean_squared_error: 0.0879 - val_loss: 0.0851 - val_mean_squared_error: 0.0851\n",
      "Epoch 18/60\n",
      "500/500 [==============================] - 0s 54us/sample - loss: 0.0724 - mean_squared_error: 0.0724 - val_loss: 0.0729 - val_mean_squared_error: 0.0729\n",
      "Epoch 19/60\n",
      "500/500 [==============================] - 0s 53us/sample - loss: 0.0602 - mean_squared_error: 0.0602 - val_loss: 0.0629 - val_mean_squared_error: 0.0629\n",
      "Epoch 20/60\n",
      "500/500 [==============================] - 0s 44us/sample - loss: 0.0502 - mean_squared_error: 0.0502 - val_loss: 0.0548 - val_mean_squared_error: 0.0548\n",
      "Epoch 21/60\n",
      "500/500 [==============================] - 0s 54us/sample - loss: 0.0422 - mean_squared_error: 0.0422 - val_loss: 0.0483 - val_mean_squared_error: 0.0483\n",
      "Epoch 22/60\n",
      "500/500 [==============================] - 0s 47us/sample - loss: 0.0358 - mean_squared_error: 0.0358 - val_loss: 0.0429 - val_mean_squared_error: 0.0429\n",
      "Epoch 23/60\n",
      "500/500 [==============================] - 0s 43us/sample - loss: 0.0306 - mean_squared_error: 0.0306 - val_loss: 0.0386 - val_mean_squared_error: 0.0386\n",
      "Epoch 24/60\n",
      "500/500 [==============================] - 0s 62us/sample - loss: 0.0265 - mean_squared_error: 0.0265 - val_loss: 0.0351 - val_mean_squared_error: 0.0351\n",
      "Epoch 25/60\n",
      "500/500 [==============================] - 0s 47us/sample - loss: 0.0232 - mean_squared_error: 0.0232 - val_loss: 0.0322 - val_mean_squared_error: 0.0322\n",
      "Epoch 26/60\n",
      "500/500 [==============================] - 0s 56us/sample - loss: 0.0205 - mean_squared_error: 0.0205 - val_loss: 0.0299 - val_mean_squared_error: 0.0299\n",
      "Epoch 27/60\n",
      "500/500 [==============================] - 0s 47us/sample - loss: 0.0183 - mean_squared_error: 0.0183 - val_loss: 0.0280 - val_mean_squared_error: 0.0280\n",
      "Epoch 28/60\n",
      "500/500 [==============================] - 0s 46us/sample - loss: 0.0166 - mean_squared_error: 0.0166 - val_loss: 0.0264 - val_mean_squared_error: 0.0264\n",
      "Epoch 29/60\n",
      "500/500 [==============================] - 0s 37us/sample - loss: 0.0152 - mean_squared_error: 0.0152 - val_loss: 0.0251 - val_mean_squared_error: 0.0251\n",
      "Epoch 30/60\n",
      "500/500 [==============================] - 0s 50us/sample - loss: 0.0141 - mean_squared_error: 0.0141 - val_loss: 0.0241 - val_mean_squared_error: 0.0241\n",
      "Epoch 31/60\n",
      "500/500 [==============================] - 0s 47us/sample - loss: 0.0132 - mean_squared_error: 0.0132 - val_loss: 0.0232 - val_mean_squared_error: 0.0232\n",
      "Epoch 32/60\n",
      "500/500 [==============================] - 0s 46us/sample - loss: 0.0125 - mean_squared_error: 0.0125 - val_loss: 0.0225 - val_mean_squared_error: 0.0225\n",
      "Epoch 33/60\n",
      "500/500 [==============================] - 0s 35us/sample - loss: 0.0119 - mean_squared_error: 0.0119 - val_loss: 0.0219 - val_mean_squared_error: 0.0219\n",
      "Epoch 34/60\n",
      "500/500 [==============================] - 0s 33us/sample - loss: 0.0115 - mean_squared_error: 0.0115 - val_loss: 0.0215 - val_mean_squared_error: 0.0215\n",
      "Epoch 35/60\n",
      "500/500 [==============================] - 0s 36us/sample - loss: 0.0111 - mean_squared_error: 0.0111 - val_loss: 0.0210 - val_mean_squared_error: 0.0210\n",
      "Epoch 36/60\n",
      "500/500 [==============================] - 0s 43us/sample - loss: 0.0108 - mean_squared_error: 0.0108 - val_loss: 0.0207 - val_mean_squared_error: 0.0207\n",
      "Epoch 37/60\n",
      "500/500 [==============================] - 0s 37us/sample - loss: 0.0105 - mean_squared_error: 0.0105 - val_loss: 0.0204 - val_mean_squared_error: 0.0204\n",
      "Epoch 38/60\n",
      "500/500 [==============================] - 0s 39us/sample - loss: 0.0103 - mean_squared_error: 0.0103 - val_loss: 0.0202 - val_mean_squared_error: 0.0202\n",
      "Epoch 39/60\n",
      "500/500 [==============================] - 0s 37us/sample - loss: 0.0102 - mean_squared_error: 0.0102 - val_loss: 0.0200 - val_mean_squared_error: 0.0200\n",
      "Epoch 40/60\n",
      "500/500 [==============================] - 0s 37us/sample - loss: 0.0100 - mean_squared_error: 0.0100 - val_loss: 0.0198 - val_mean_squared_error: 0.0198\n",
      "Epoch 41/60\n",
      "500/500 [==============================] - 0s 33us/sample - loss: 0.0099 - mean_squared_error: 0.0099 - val_loss: 0.0197 - val_mean_squared_error: 0.0197\n",
      "Epoch 42/60\n",
      "500/500 [==============================] - 0s 38us/sample - loss: 0.0099 - mean_squared_error: 0.0099 - val_loss: 0.0196 - val_mean_squared_error: 0.0196\n",
      "Epoch 43/60\n",
      "500/500 [==============================] - 0s 34us/sample - loss: 0.0098 - mean_squared_error: 0.0098 - val_loss: 0.0195 - val_mean_squared_error: 0.0195\n",
      "Epoch 44/60\n",
      "500/500 [==============================] - 0s 40us/sample - loss: 0.0098 - mean_squared_error: 0.0098 - val_loss: 0.0194 - val_mean_squared_error: 0.0194\n",
      "Epoch 45/60\n"
     ]
    },
    {
     "name": "stdout",
     "output_type": "stream",
     "text": [
      "500/500 [==============================] - 0s 38us/sample - loss: 0.0097 - mean_squared_error: 0.0097 - val_loss: 0.0193 - val_mean_squared_error: 0.0193\n",
      "Epoch 46/60\n",
      "500/500 [==============================] - 0s 43us/sample - loss: 0.0097 - mean_squared_error: 0.0097 - val_loss: 0.0192 - val_mean_squared_error: 0.0192\n",
      "Epoch 47/60\n",
      "500/500 [==============================] - 0s 36us/sample - loss: 0.0097 - mean_squared_error: 0.0097 - val_loss: 0.0192 - val_mean_squared_error: 0.0192\n",
      "Epoch 48/60\n",
      "500/500 [==============================] - 0s 31us/sample - loss: 0.0096 - mean_squared_error: 0.0096 - val_loss: 0.0191 - val_mean_squared_error: 0.0191\n",
      "Epoch 49/60\n",
      "500/500 [==============================] - 0s 32us/sample - loss: 0.0096 - mean_squared_error: 0.0096 - val_loss: 0.0191 - val_mean_squared_error: 0.0191\n",
      "Epoch 50/60\n",
      "500/500 [==============================] - 0s 33us/sample - loss: 0.0096 - mean_squared_error: 0.0096 - val_loss: 0.0191 - val_mean_squared_error: 0.0191\n",
      "Epoch 51/60\n",
      "500/500 [==============================] - 0s 36us/sample - loss: 0.0096 - mean_squared_error: 0.0096 - val_loss: 0.0190 - val_mean_squared_error: 0.0190\n",
      "Epoch 52/60\n",
      "500/500 [==============================] - 0s 34us/sample - loss: 0.0096 - mean_squared_error: 0.0096 - val_loss: 0.0190 - val_mean_squared_error: 0.0190\n",
      "Epoch 53/60\n",
      "500/500 [==============================] - 0s 33us/sample - loss: 0.0096 - mean_squared_error: 0.0096 - val_loss: 0.0190 - val_mean_squared_error: 0.0190\n",
      "Epoch 54/60\n",
      "500/500 [==============================] - 0s 32us/sample - loss: 0.0096 - mean_squared_error: 0.0096 - val_loss: 0.0190 - val_mean_squared_error: 0.0190\n",
      "Epoch 55/60\n",
      "500/500 [==============================] - 0s 36us/sample - loss: 0.0096 - mean_squared_error: 0.0096 - val_loss: 0.0190 - val_mean_squared_error: 0.0190\n",
      "Epoch 56/60\n",
      "500/500 [==============================] - 0s 34us/sample - loss: 0.0096 - mean_squared_error: 0.0096 - val_loss: 0.0189 - val_mean_squared_error: 0.0189\n",
      "Epoch 57/60\n",
      "500/500 [==============================] - 0s 33us/sample - loss: 0.0096 - mean_squared_error: 0.0096 - val_loss: 0.0189 - val_mean_squared_error: 0.0189\n",
      "Epoch 58/60\n",
      "500/500 [==============================] - 0s 37us/sample - loss: 0.0096 - mean_squared_error: 0.0096 - val_loss: 0.0189 - val_mean_squared_error: 0.0189\n",
      "Epoch 59/60\n",
      "500/500 [==============================] - 0s 34us/sample - loss: 0.0096 - mean_squared_error: 0.0096 - val_loss: 0.0189 - val_mean_squared_error: 0.0189\n",
      "Epoch 60/60\n",
      "500/500 [==============================] - 0s 37us/sample - loss: 0.0095 - mean_squared_error: 0.0095 - val_loss: 0.0189 - val_mean_squared_error: 0.0189\n"
     ]
    }
   ],
   "source": [
    "# compose the NN model\n",
    "import tensorflow as tf\n",
    "from tensorflow import keras\n",
    "\n",
    "from tensorflow.keras.models import Sequential\n",
    "from tensorflow.keras.layers import Dense, Activation\n",
    "from tensorflow.keras import backend as K\n",
    "from tensorflow.keras.utils import get_custom_objects\n",
    "\n",
    "model = tf.keras.Sequential()\n",
    "model.add(Dense(1, input_shape=(1,)))\n",
    "\n",
    "# compile the model choosing optimizer, loss and metrics objects\n",
    "model.compile(optimizer='sgd', loss='mse', metrics=['mse'])\n",
    "# get a summary of our composed model\n",
    "model.summary()\n",
    "# fit the model using training dataset\n",
    "# over 10 epochs of 32 batch size each\n",
    "# report training progress against validation data\n",
    "history = model.fit(x=x_train, y=y_train, \n",
    "          batch_size=32, epochs=60,\n",
    "          shuffle=True, # a good idea is to shuffle input before at each epoch\n",
    "          validation_data=(x_valid, y_valid))"
   ]
  },
  {
   "cell_type": "code",
   "execution_count": 3,
   "metadata": {},
   "outputs": [
    {
     "name": "stdout",
     "output_type": "stream",
     "text": [
      "10/10 [==============================] - 0s 43us/sample - loss: 0.0189 - mean_squared_error: 0.0189\n",
      "\n",
      "Test loss: 0.018885061144828796\n",
      "Test accuracy: 0.018885061\n"
     ]
    }
   ],
   "source": [
    "# return weights\n",
    "model.get_weights()\n",
    "# evaluate model\n",
    "score = model.evaluate(x_valid, y_valid, batch_size=32, verbose=1)\n",
    "\n",
    "# print performance\n",
    "print()\n",
    "print('Test loss:', score[0])\n",
    "print('Test accuracy:', score[1])"
   ]
  },
  {
   "cell_type": "code",
   "execution_count": 4,
   "metadata": {},
   "outputs": [
    {
     "name": "stdout",
     "output_type": "stream",
     "text": [
      "10/10 [==============================] - 0s 51us/sample - loss: 1.5835e-04 - mean_squared_error: 1.5835e-04\n",
      "\n",
      "Test loss: 0.0001583458506502211\n",
      "Test accuracy: 0.00015834585\n"
     ]
    }
   ],
   "source": [
    "# evaluate model with the exact curve\n",
    "score = model.evaluate(x_valid, y_target, batch_size=32, verbose=1)\n",
    "\n",
    "# print performance\n",
    "print()\n",
    "print('Test loss:', score[0])\n",
    "print('Test accuracy:', score[1])"
   ]
  },
  {
   "cell_type": "code",
   "execution_count": 5,
   "metadata": {},
   "outputs": [
    {
     "data": {
      "image/png": "[encoded data removed]",
      "text/plain": [
       "<Figure size 432x288 with 1 Axes>"
      ]
     },
     "metadata": {
      "needs_background": "light"
     },
     "output_type": "display_data"
    }
   ],
   "source": [
    "# look into training history\n",
    "# Plot training & validation loss values\n",
    "plt.plot(history.history['loss'])\n",
    "plt.plot(history.history['val_loss'])\n",
    "plt.title('Model loss')\n",
    "plt.ylabel('Loss')\n",
    "plt.xlabel('Epoch')\n",
    "plt.legend(['Train', 'Test'], loc='best')\n",
    "plt.show()"
   ]
  },
  {
   "cell_type": "code",
   "execution_count": 6,
   "metadata": {},
   "outputs": [
    {
     "data": {
      "image/png": "[encoded data removed]",
      "text/plain": [
       "<Figure size 432x288 with 1 Axes>"
      ]
     },
     "metadata": {
      "needs_background": "light"
     },
     "output_type": "display_data"
    }
   ],
   "source": [
    "x_predicted = np.random.uniform(-1, 1, 100)\n",
    "y_predicted = model.predict(x_predicted)\n",
    "plt.scatter(x_predicted, y_predicted,color='r')\n",
    "plt.plot(x_valid, y_target)\n",
    "plt.grid(True)\n",
    "plt.show()"
   ]
  },
  {
   "cell_type": "markdown",
   "metadata": {},
   "source": [
    "### Esercizio 11.2\n",
    "La stessa cosa è stata fatta per il fit di $f(x)=4-3x-2x^2+3x^3$ con $x \\in [-1,1]$."
   ]
  },
  {
   "cell_type": "code",
   "execution_count": 7,
   "metadata": {},
   "outputs": [
    {
     "name": "stderr",
     "output_type": "stream",
     "text": [
      "Using TensorFlow backend.\n"
     ]
    },
    {
     "data": {
      "image/png": "[encoded data removed]",
      "text/plain": [
       "<Figure size 432x288 with 1 Axes>"
      ]
     },
     "metadata": {
      "needs_background": "light"
     },
     "output_type": "display_data"
    }
   ],
   "source": [
    "import numpy as np\n",
    "import matplotlib.pyplot as plt\n",
    "import tensorflow as tf\n",
    "from tensorflow import keras\n",
    "\n",
    "from tensorflow.keras.models import Sequential\n",
    "from tensorflow.keras.layers import Dense, Activation, Dropout\n",
    "from tensorflow.keras import backend as K\n",
    "from tensorflow.keras.utils import get_custom_objects\n",
    "from keras import optimizers, losses, metrics\n",
    "model = tf.keras.Sequential()\n",
    "model.add(Dense(4, input_shape=(1,)))\n",
    "model.add(Dense(500, activation='relu'))\n",
    "model.add(Dropout(0.5))\n",
    "model.add(Dense(50, activation='relu'))\n",
    "model.add(Dense(20, activation='elu'))\n",
    "model.add(Dense(1))\n",
    "x_train = np.random.uniform(-1, 1, 5000)\n",
    "x_valid = np.random.uniform(-1, 1, 500)\n",
    "x_valid.sort()\n",
    "sigma = 0.0\n",
    "y_target = 4 -  3 * x_valid - 2 * x_valid** 2 + 3 * x_valid**3\n",
    "y_valid = np.random.normal(4 -  3 * x_valid - 2 * x_valid** 2 + 3 * x_valid**3, sigma)\n",
    "y_train = 4 -  3 * x_train - 2 * x_train** 2 + 3 * x_train**3\n",
    "plt.plot(x_valid,y_target)\n",
    "plt.grid(True)\n",
    "plt.show()"
   ]
  },
  {
   "cell_type": "code",
   "execution_count": 8,
   "metadata": {},
   "outputs": [
    {
     "name": "stdout",
     "output_type": "stream",
     "text": [
      "Model: \"sequential_1\"\n",
      "_________________________________________________________________\n",
      "Layer (type)                 Output Shape              Param #   \n",
      "=================================================================\n",
      "dense_1 (Dense)              (None, 4)                 8         \n",
      "_________________________________________________________________\n",
      "dense_2 (Dense)              (None, 500)               2500      \n",
      "_________________________________________________________________\n",
      "dropout (Dropout)            (None, 500)               0         \n",
      "_________________________________________________________________\n",
      "dense_3 (Dense)              (None, 50)                25050     \n",
      "_________________________________________________________________\n",
      "dense_4 (Dense)              (None, 20)                1020      \n",
      "_________________________________________________________________\n",
      "dense_5 (Dense)              (None, 1)                 21        \n",
      "=================================================================\n",
      "Total params: 28,599\n",
      "Trainable params: 28,599\n",
      "Non-trainable params: 0\n",
      "_________________________________________________________________\n"
     ]
    }
   ],
   "source": [
    "model.compile(optimizer='sgd', loss='mse', metrics=['mse'])\n",
    "model.summary()"
   ]
  },
  {
   "cell_type": "code",
   "execution_count": 9,
   "metadata": {
    "scrolled": true
   },
   "outputs": [
    {
     "name": "stdout",
     "output_type": "stream",
     "text": [
      "Train on 5000 samples, validate on 500 samples\n",
      "Epoch 1/40\n",
      "5000/5000 [==============================] - 1s 242us/sample - loss: 0.6606 - mean_squared_error: 0.6606 - val_loss: 0.1012 - val_mean_squared_error: 0.1012\n",
      "Epoch 2/40\n",
      "5000/5000 [==============================] - 1s 147us/sample - loss: 0.1064 - mean_squared_error: 0.1064 - val_loss: 0.0418 - val_mean_squared_error: 0.0418\n",
      "Epoch 3/40\n",
      "5000/5000 [==============================] - 1s 163us/sample - loss: 0.0574 - mean_squared_error: 0.0574 - val_loss: 0.0188 - val_mean_squared_error: 0.0188\n",
      "Epoch 4/40\n",
      "5000/5000 [==============================] - 1s 148us/sample - loss: 0.0410 - mean_squared_error: 0.0410 - val_loss: 0.0152 - val_mean_squared_error: 0.0152\n",
      "Epoch 5/40\n",
      "5000/5000 [==============================] - 1s 147us/sample - loss: 0.0330 - mean_squared_error: 0.0330 - val_loss: 0.0143 - val_mean_squared_error: 0.0143\n",
      "Epoch 6/40\n",
      "5000/5000 [==============================] - 1s 139us/sample - loss: 0.0285 - mean_squared_error: 0.0285 - val_loss: 0.0076 - val_mean_squared_error: 0.0076\n",
      "Epoch 7/40\n",
      "5000/5000 [==============================] - 1s 140us/sample - loss: 0.0243 - mean_squared_error: 0.0243 - val_loss: 0.0094 - val_mean_squared_error: 0.0094\n",
      "Epoch 8/40\n",
      "5000/5000 [==============================] - 1s 137us/sample - loss: 0.0222 - mean_squared_error: 0.0222 - val_loss: 0.0048 - val_mean_squared_error: 0.0048\n",
      "Epoch 9/40\n",
      "5000/5000 [==============================] - 1s 146us/sample - loss: 0.0203 - mean_squared_error: 0.0203 - val_loss: 0.0038 - val_mean_squared_error: 0.0038\n",
      "Epoch 10/40\n",
      "5000/5000 [==============================] - 1s 148us/sample - loss: 0.0180 - mean_squared_error: 0.0180 - val_loss: 0.0034 - val_mean_squared_error: 0.0034\n",
      "Epoch 11/40\n",
      "5000/5000 [==============================] - 1s 154us/sample - loss: 0.0175 - mean_squared_error: 0.0175 - val_loss: 0.0115 - val_mean_squared_error: 0.0115\n",
      "Epoch 12/40\n",
      "5000/5000 [==============================] - 1s 128us/sample - loss: 0.0165 - mean_squared_error: 0.0165 - val_loss: 0.0091 - val_mean_squared_error: 0.0091\n",
      "Epoch 13/40\n",
      "5000/5000 [==============================] - 1s 141us/sample - loss: 0.0153 - mean_squared_error: 0.0153 - val_loss: 0.0028 - val_mean_squared_error: 0.0028\n",
      "Epoch 14/40\n",
      "5000/5000 [==============================] - 1s 166us/sample - loss: 0.0160 - mean_squared_error: 0.0160 - val_loss: 0.0028 - val_mean_squared_error: 0.0028\n",
      "Epoch 15/40\n",
      "5000/5000 [==============================] - 1s 145us/sample - loss: 0.0144 - mean_squared_error: 0.0144 - val_loss: 0.0036 - val_mean_squared_error: 0.0036\n",
      "Epoch 16/40\n",
      "5000/5000 [==============================] - 1s 159us/sample - loss: 0.0136 - mean_squared_error: 0.0136 - val_loss: 0.0022 - val_mean_squared_error: 0.0022\n",
      "Epoch 17/40\n",
      "5000/5000 [==============================] - 1s 148us/sample - loss: 0.0129 - mean_squared_error: 0.0129 - val_loss: 0.0030 - val_mean_squared_error: 0.0030\n",
      "Epoch 18/40\n",
      "5000/5000 [==============================] - 1s 127us/sample - loss: 0.0134 - mean_squared_error: 0.0134 - val_loss: 0.0031 - val_mean_squared_error: 0.0031\n",
      "Epoch 19/40\n",
      "5000/5000 [==============================] - 1s 134us/sample - loss: 0.0123 - mean_squared_error: 0.0123 - val_loss: 0.0038 - val_mean_squared_error: 0.0038\n",
      "Epoch 20/40\n",
      "5000/5000 [==============================] - 1s 156us/sample - loss: 0.0123 - mean_squared_error: 0.0123 - val_loss: 0.0033 - val_mean_squared_error: 0.0033\n",
      "Epoch 21/40\n",
      "5000/5000 [==============================] - 1s 153us/sample - loss: 0.0122 - mean_squared_error: 0.0122 - val_loss: 0.0020 - val_mean_squared_error: 0.0020\n",
      "Epoch 22/40\n",
      "5000/5000 [==============================] - 1s 162us/sample - loss: 0.0117 - mean_squared_error: 0.0117 - val_loss: 0.0042 - val_mean_squared_error: 0.0042\n",
      "Epoch 23/40\n",
      "5000/5000 [==============================] - 1s 154us/sample - loss: 0.0120 - mean_squared_error: 0.0120 - val_loss: 0.0034 - val_mean_squared_error: 0.0034\n",
      "Epoch 24/40\n",
      "5000/5000 [==============================] - 1s 160us/sample - loss: 0.0120 - mean_squared_error: 0.0120 - val_loss: 0.0035 - val_mean_squared_error: 0.0035\n",
      "Epoch 25/40\n",
      "5000/5000 [==============================] - 1s 150us/sample - loss: 0.0109 - mean_squared_error: 0.0109 - val_loss: 0.0096 - val_mean_squared_error: 0.0096\n",
      "Epoch 26/40\n",
      "5000/5000 [==============================] - 1s 145us/sample - loss: 0.0113 - mean_squared_error: 0.0113 - val_loss: 0.0055 - val_mean_squared_error: 0.0055\n",
      "Epoch 27/40\n",
      "5000/5000 [==============================] - 1s 151us/sample - loss: 0.0114 - mean_squared_error: 0.0114 - val_loss: 0.0035 - val_mean_squared_error: 0.0035\n",
      "Epoch 28/40\n",
      "5000/5000 [==============================] - 1s 148us/sample - loss: 0.0109 - mean_squared_error: 0.0109 - val_loss: 0.0026 - val_mean_squared_error: 0.0026\n",
      "Epoch 29/40\n",
      "5000/5000 [==============================] - 1s 158us/sample - loss: 0.0113 - mean_squared_error: 0.0113 - val_loss: 0.0024 - val_mean_squared_error: 0.0024\n",
      "Epoch 30/40\n",
      "5000/5000 [==============================] - 1s 149us/sample - loss: 0.0105 - mean_squared_error: 0.0105 - val_loss: 0.0036 - val_mean_squared_error: 0.0036\n",
      "Epoch 31/40\n",
      "5000/5000 [==============================] - 1s 151us/sample - loss: 0.0103 - mean_squared_error: 0.0103 - val_loss: 0.0040 - val_mean_squared_error: 0.0040\n",
      "Epoch 32/40\n",
      "5000/5000 [==============================] - 1s 152us/sample - loss: 0.0105 - mean_squared_error: 0.0105 - val_loss: 0.0019 - val_mean_squared_error: 0.0019\n",
      "Epoch 33/40\n",
      "5000/5000 [==============================] - 1s 149us/sample - loss: 0.0097 - mean_squared_error: 0.0097 - val_loss: 0.0036 - val_mean_squared_error: 0.0036\n",
      "Epoch 34/40\n",
      "5000/5000 [==============================] - 1s 186us/sample - loss: 0.0107 - mean_squared_error: 0.0107 - val_loss: 0.0013 - val_mean_squared_error: 0.0013\n",
      "Epoch 35/40\n",
      "5000/5000 [==============================] - 1s 161us/sample - loss: 0.0100 - mean_squared_error: 0.0100 - val_loss: 0.0016 - val_mean_squared_error: 0.0016\n",
      "Epoch 36/40\n",
      "5000/5000 [==============================] - 1s 160us/sample - loss: 0.0100 - mean_squared_error: 0.0100 - val_loss: 0.0072 - val_mean_squared_error: 0.0072\n",
      "Epoch 37/40\n",
      "5000/5000 [==============================] - 1s 154us/sample - loss: 0.0099 - mean_squared_error: 0.0099 - val_loss: 0.0015 - val_mean_squared_error: 0.0015\n",
      "Epoch 38/40\n",
      "5000/5000 [==============================] - 1s 165us/sample - loss: 0.0096 - mean_squared_error: 0.0096 - val_loss: 0.0012 - val_mean_squared_error: 0.0012\n",
      "Epoch 39/40\n",
      "5000/5000 [==============================] - 1s 153us/sample - loss: 0.0097 - mean_squared_error: 0.0097 - val_loss: 0.0063 - val_mean_squared_error: 0.0063\n",
      "Epoch 40/40\n",
      "5000/5000 [==============================] - 1s 140us/sample - loss: 0.0094 - mean_squared_error: 0.0094 - val_loss: 0.0014 - val_mean_squared_error: 0.0014\n"
     ]
    }
   ],
   "source": [
    "history = model.fit(x=x_train, y=y_train, \n",
    "          batch_size=32, epochs=40,\n",
    "          shuffle=True, # a good idea is to shuffle input before at each epoch\n",
    "          validation_data=(x_valid, y_valid))"
   ]
  },
  {
   "cell_type": "code",
   "execution_count": 10,
   "metadata": {},
   "outputs": [
    {
     "data": {
      "image/png": "[encoded data removed]",
      "text/plain": [
       "<Figure size 432x288 with 1 Axes>"
      ]
     },
     "metadata": {
      "needs_background": "light"
     },
     "output_type": "display_data"
    }
   ],
   "source": [
    "plt.plot(history.history['loss'])\n",
    "plt.plot(history.history['val_loss'])\n",
    "plt.title('Model loss')\n",
    "plt.ylabel('Loss')\n",
    "plt.xlabel('Epoch')\n",
    "plt.legend(['Train', 'Test'], loc='best')\n",
    "plt.show()"
   ]
  },
  {
   "cell_type": "code",
   "execution_count": 11,
   "metadata": {},
   "outputs": [
    {
     "data": {
      "image/png": "[encoded data removed]",
      "text/plain": [
       "<Figure size 432x288 with 1 Axes>"
      ]
     },
     "metadata": {
      "needs_background": "light"
     },
     "output_type": "display_data"
    }
   ],
   "source": [
    "x_predicted = np.random.uniform(-1, 1, 100)\n",
    "y_predicted = model.predict(x_predicted)\n",
    "plt.scatter(x_predicted, y_predicted,color='r')\n",
    "plt.plot(x_valid, y_target)\n",
    "plt.grid(True)\n",
    "plt.show()"
   ]
  },
  {
   "cell_type": "markdown",
   "metadata": {},
   "source": [
    "Lo stesso problema viene risolto con un'altra rete neurale più semplice:"
   ]
  },
  {
   "cell_type": "code",
   "execution_count": 12,
   "metadata": {},
   "outputs": [
    {
     "name": "stdout",
     "output_type": "stream",
     "text": [
      "Model: \"sequential_2\"\n",
      "_________________________________________________________________\n",
      "Layer (type)                 Output Shape              Param #   \n",
      "=================================================================\n",
      "dense_6 (Dense)              (None, 4)                 8         \n",
      "_________________________________________________________________\n",
      "dense_7 (Dense)              (None, 25)                125       \n",
      "_________________________________________________________________\n",
      "dropout_1 (Dropout)          (None, 25)                0         \n",
      "_________________________________________________________________\n",
      "dense_8 (Dense)              (None, 3)                 78        \n",
      "_________________________________________________________________\n",
      "dense_9 (Dense)              (None, 2)                 8         \n",
      "_________________________________________________________________\n",
      "dense_10 (Dense)             (None, 1)                 3         \n",
      "=================================================================\n",
      "Total params: 222\n",
      "Trainable params: 222\n",
      "Non-trainable params: 0\n",
      "_________________________________________________________________\n"
     ]
    }
   ],
   "source": [
    "model2 = tf.keras.Sequential()\n",
    "model2.add(Dense(4, input_shape=(1,)))\n",
    "model2.add(Dense(25, activation='relu'))\n",
    "model2.add(Dropout(0.2))\n",
    "model2.add(Dense(3, activation='relu'))\n",
    "model2.add(Dense(2, activation='elu'))\n",
    "model2.add(Dense(1))\n",
    "model2.compile(optimizer='sgd', loss='mse', metrics=['mse'])\n",
    "model2.summary()"
   ]
  },
  {
   "cell_type": "code",
   "execution_count": 13,
   "metadata": {
    "scrolled": true
   },
   "outputs": [
    {
     "name": "stdout",
     "output_type": "stream",
     "text": [
      "Train on 5000 samples, validate on 500 samples\n",
      "Epoch 1/40\n",
      "5000/5000 [==============================] - 1s 257us/sample - loss: 0.6030 - mean_squared_error: 0.6030 - val_loss: 0.1551 - val_mean_squared_error: 0.1551\n",
      "Epoch 2/40\n",
      "5000/5000 [==============================] - 1s 145us/sample - loss: 0.2111 - mean_squared_error: 0.2111 - val_loss: 0.0912 - val_mean_squared_error: 0.0912\n",
      "Epoch 3/40\n",
      "5000/5000 [==============================] - 1s 151us/sample - loss: 0.1512 - mean_squared_error: 0.1512 - val_loss: 0.0627 - val_mean_squared_error: 0.0627\n",
      "Epoch 4/40\n",
      "5000/5000 [==============================] - 1s 132us/sample - loss: 0.1300 - mean_squared_error: 0.1300 - val_loss: 0.0454 - val_mean_squared_error: 0.0454\n",
      "Epoch 5/40\n",
      "5000/5000 [==============================] - 1s 127us/sample - loss: 0.1079 - mean_squared_error: 0.1079 - val_loss: 0.0371 - val_mean_squared_error: 0.0371\n",
      "Epoch 6/40\n",
      "5000/5000 [==============================] - 1s 120us/sample - loss: 0.1029 - mean_squared_error: 0.1029 - val_loss: 0.0321 - val_mean_squared_error: 0.0321\n",
      "Epoch 7/40\n",
      "5000/5000 [==============================] - 1s 140us/sample - loss: 0.0905 - mean_squared_error: 0.0905 - val_loss: 0.0324 - val_mean_squared_error: 0.0324\n",
      "Epoch 8/40\n",
      "5000/5000 [==============================] - 1s 174us/sample - loss: 0.0905 - mean_squared_error: 0.0905 - val_loss: 0.0342 - val_mean_squared_error: 0.0342\n",
      "Epoch 9/40\n",
      "5000/5000 [==============================] - 1s 125us/sample - loss: 0.0894 - mean_squared_error: 0.0894 - val_loss: 0.0278 - val_mean_squared_error: 0.0278\n",
      "Epoch 10/40\n",
      "5000/5000 [==============================] - 1s 136us/sample - loss: 0.0837 - mean_squared_error: 0.0837 - val_loss: 0.0259 - val_mean_squared_error: 0.0259\n",
      "Epoch 11/40\n",
      "5000/5000 [==============================] - 1s 119us/sample - loss: 0.0772 - mean_squared_error: 0.0772 - val_loss: 0.0195 - val_mean_squared_error: 0.0195\n",
      "Epoch 12/40\n",
      "5000/5000 [==============================] - 1s 105us/sample - loss: 0.0717 - mean_squared_error: 0.0717 - val_loss: 0.0195 - val_mean_squared_error: 0.0195\n",
      "Epoch 13/40\n",
      "5000/5000 [==============================] - 1s 116us/sample - loss: 0.0704 - mean_squared_error: 0.0704 - val_loss: 0.0188 - val_mean_squared_error: 0.0188\n",
      "Epoch 14/40\n",
      "5000/5000 [==============================] - 1s 163us/sample - loss: 0.0660 - mean_squared_error: 0.0660 - val_loss: 0.0146 - val_mean_squared_error: 0.0146\n",
      "Epoch 15/40\n",
      "5000/5000 [==============================] - 1s 174us/sample - loss: 0.0618 - mean_squared_error: 0.0618 - val_loss: 0.0150 - val_mean_squared_error: 0.0150\n",
      "Epoch 16/40\n",
      "5000/5000 [==============================] - 1s 138us/sample - loss: 0.0619 - mean_squared_error: 0.0619 - val_loss: 0.0126 - val_mean_squared_error: 0.0126\n",
      "Epoch 17/40\n",
      "5000/5000 [==============================] - 1s 143us/sample - loss: 0.0533 - mean_squared_error: 0.0533 - val_loss: 0.0097 - val_mean_squared_error: 0.0097\n",
      "Epoch 18/40\n",
      "5000/5000 [==============================] - 1s 121us/sample - loss: 0.0541 - mean_squared_error: 0.0541 - val_loss: 0.0091 - val_mean_squared_error: 0.0091\n",
      "Epoch 19/40\n",
      "5000/5000 [==============================] - 1s 124us/sample - loss: 0.0493 - mean_squared_error: 0.0493 - val_loss: 0.0155 - val_mean_squared_error: 0.0155\n",
      "Epoch 20/40\n",
      "5000/5000 [==============================] - 1s 136us/sample - loss: 0.0455 - mean_squared_error: 0.0455 - val_loss: 0.0084 - val_mean_squared_error: 0.0084\n",
      "Epoch 21/40\n",
      "5000/5000 [==============================] - 1s 140us/sample - loss: 0.0448 - mean_squared_error: 0.0448 - val_loss: 0.0069 - val_mean_squared_error: 0.0069\n",
      "Epoch 22/40\n",
      "5000/5000 [==============================] - 1s 122us/sample - loss: 0.0419 - mean_squared_error: 0.0419 - val_loss: 0.0063 - val_mean_squared_error: 0.0063\n",
      "Epoch 23/40\n",
      "5000/5000 [==============================] - 1s 138us/sample - loss: 0.0401 - mean_squared_error: 0.0401 - val_loss: 0.0061 - val_mean_squared_error: 0.0061\n",
      "Epoch 24/40\n",
      "5000/5000 [==============================] - 1s 154us/sample - loss: 0.0390 - mean_squared_error: 0.0390 - val_loss: 0.0067 - val_mean_squared_error: 0.0067\n",
      "Epoch 25/40\n",
      "5000/5000 [==============================] - 1s 164us/sample - loss: 0.0399 - mean_squared_error: 0.0399 - val_loss: 0.0081 - val_mean_squared_error: 0.0081\n",
      "Epoch 26/40\n",
      "5000/5000 [==============================] - 1s 121us/sample - loss: 0.0389 - mean_squared_error: 0.0389 - val_loss: 0.0074 - val_mean_squared_error: 0.0074\n",
      "Epoch 27/40\n",
      "5000/5000 [==============================] - 1s 145us/sample - loss: 0.0382 - mean_squared_error: 0.0382 - val_loss: 0.0075 - val_mean_squared_error: 0.0075\n",
      "Epoch 28/40\n",
      "5000/5000 [==============================] - 1s 159us/sample - loss: 0.0392 - mean_squared_error: 0.0392 - val_loss: 0.0088 - val_mean_squared_error: 0.0088\n",
      "Epoch 29/40\n",
      "5000/5000 [==============================] - 1s 127us/sample - loss: 0.0391 - mean_squared_error: 0.0391 - val_loss: 0.0110 - val_mean_squared_error: 0.0110\n",
      "Epoch 30/40\n",
      "5000/5000 [==============================] - 1s 113us/sample - loss: 0.0389 - mean_squared_error: 0.0389 - val_loss: 0.0075 - val_mean_squared_error: 0.0075\n",
      "Epoch 31/40\n",
      "5000/5000 [==============================] - 1s 145us/sample - loss: 0.0346 - mean_squared_error: 0.0346 - val_loss: 0.0077 - val_mean_squared_error: 0.0077\n",
      "Epoch 32/40\n",
      "5000/5000 [==============================] - 1s 155us/sample - loss: 0.0370 - mean_squared_error: 0.0370 - val_loss: 0.0065 - val_mean_squared_error: 0.0065\n",
      "Epoch 33/40\n",
      "5000/5000 [==============================] - 1s 118us/sample - loss: 0.0360 - mean_squared_error: 0.0360 - val_loss: 0.0095 - val_mean_squared_error: 0.0095\n",
      "Epoch 34/40\n",
      "5000/5000 [==============================] - 1s 116us/sample - loss: 0.0374 - mean_squared_error: 0.0374 - val_loss: 0.0071 - val_mean_squared_error: 0.0071\n",
      "Epoch 35/40\n",
      "5000/5000 [==============================] - 1s 137us/sample - loss: 0.0350 - mean_squared_error: 0.0350 - val_loss: 0.0097 - val_mean_squared_error: 0.0097\n",
      "Epoch 36/40\n",
      "5000/5000 [==============================] - 1s 151us/sample - loss: 0.0347 - mean_squared_error: 0.0347 - val_loss: 0.0090 - val_mean_squared_error: 0.0090\n",
      "Epoch 37/40\n",
      "5000/5000 [==============================] - 1s 142us/sample - loss: 0.0350 - mean_squared_error: 0.0350 - val_loss: 0.0083 - val_mean_squared_error: 0.0083\n",
      "Epoch 38/40\n",
      "5000/5000 [==============================] - 1s 136us/sample - loss: 0.0355 - mean_squared_error: 0.0355 - val_loss: 0.0066 - val_mean_squared_error: 0.0066\n",
      "Epoch 39/40\n",
      "5000/5000 [==============================] - 1s 130us/sample - loss: 0.0355 - mean_squared_error: 0.0355 - val_loss: 0.0070 - val_mean_squared_error: 0.0070\n",
      "Epoch 40/40\n",
      "5000/5000 [==============================] - 1s 138us/sample - loss: 0.0328 - mean_squared_error: 0.0328 - val_loss: 0.0079 - val_mean_squared_error: 0.0079\n"
     ]
    }
   ],
   "source": [
    "history2 = model2.fit(x=x_train, y=y_train, \n",
    "          batch_size=32, epochs=40,\n",
    "          shuffle=True, # a good idea is to shuffle input before at each epoch\n",
    "          validation_data=(x_valid, y_valid))"
   ]
  },
  {
   "cell_type": "code",
   "execution_count": 14,
   "metadata": {},
   "outputs": [
    {
     "data": {
      "image/png": "[encoded data removed]",
      "text/plain": [
       "<Figure size 432x288 with 1 Axes>"
      ]
     },
     "metadata": {
      "needs_background": "light"
     },
     "output_type": "display_data"
    }
   ],
   "source": [
    "x_predicted2 = np.random.uniform(-1, 1, 100)\n",
    "y_predicted2 = model2.predict(x_predicted2)\n",
    "plt.scatter(x_predicted2, y_predicted2,color='r')\n",
    "plt.plot(x_valid, y_target)\n",
    "plt.grid(True)\n",
    "plt.show()"
   ]
  }
 ],
 "metadata": {
  "kernelspec": {
   "display_name": "Python 3",
   "language": "python",
   "name": "python3"
  },
  "language_info": {
   "codemirror_mode": {
    "name": "ipython",
    "version": 3
   },
   "file_extension": ".py",
   "mimetype": "text/x-python",
   "name": "python",
   "nbconvert_exporter": "python",
   "pygments_lexer": "ipython3",
   "version": "3.7.4"
  }
 },
 "nbformat": 4,
 "nbformat_minor": 2
}
